{
 "cells": [
  {
   "cell_type": "markdown",
   "metadata": {},
   "source": [
    "# Noise Smoothing"
   ]
  },
  {
   "cell_type": "code",
   "execution_count": 4,
   "metadata": {},
   "outputs": [],
   "source": [
    "import pandas as pd\n",
    "import numpy as np\n"
   ]
  },
  {
   "cell_type": "code",
   "execution_count": 5,
   "metadata": {},
   "outputs": [
    {
     "name": "stdout",
     "output_type": "stream",
     "text": [
      "      T\n",
      "0    20\n",
      "1    68\n",
      "2    28\n",
      "3    36\n",
      "4    37\n",
      "5    34\n",
      "6    37\n",
      "7    29\n",
      "8    13\n",
      "9     0\n",
      "10   88\n",
      "11   82\n",
      "12    7\n",
      "13   23\n",
      "14   14\n",
      "15   44\n",
      "16   27\n",
      "17   81\n",
      "18   32\n",
      "19   32\n",
      "20   52\n",
      "21   93\n",
      "22   65\n",
      "23   55\n",
      "24   61\n",
      "25   48\n",
      "26   16\n",
      "27   52\n",
      "28   45\n",
      "29   18\n",
      "..   ..\n",
      "170  36\n",
      "171  82\n",
      "172  62\n",
      "173  51\n",
      "174  44\n",
      "175  75\n",
      "176  13\n",
      "177  99\n",
      "178  60\n",
      "179  40\n",
      "180  57\n",
      "181  55\n",
      "182  20\n",
      "183  30\n",
      "184  98\n",
      "185  88\n",
      "186   1\n",
      "187  42\n",
      "188  85\n",
      "189  27\n",
      "190  57\n",
      "191  18\n",
      "192  12\n",
      "193  76\n",
      "194  57\n",
      "195  99\n",
      "196  70\n",
      "197  12\n",
      "198  95\n",
      "199   0\n",
      "\n",
      "[200 rows x 1 columns]\n"
     ]
    }
   ],
   "source": [
    "n=200\n",
    "df = pd.DataFrame(np.random.randint(0,100,size=(n,1)), columns = list('T'))\n",
    "print(df)"
   ]
  },
  {
   "cell_type": "markdown",
   "metadata": {},
   "source": [
    "## Equal Width Binning"
   ]
  },
  {
   "cell_type": "code",
   "execution_count": 11,
   "metadata": {},
   "outputs": [
    {
     "data": {
      "image/png": "[encoded data removed]",
      "text/plain": [
       "<Figure size 432x288 with 1 Axes>"
      ]
     },
     "metadata": {
      "needs_background": "light"
     },
     "output_type": "display_data"
    },
    {
     "name": "stdout",
     "output_type": "stream",
     "text": [
      "Bins\n",
      "[ 0.   9.9 19.8 29.7 39.6 49.5 59.4 69.3 79.2 89.1 99. ]\n"
     ]
    }
   ],
   "source": [
    "import matplotlib.pyplot as plt\n",
    "hist = plt.hist(df['T'], ec=\"red\")\n",
    "plt.show()\n",
    "print(\"Bins\")\n",
    "print(hist[1])"
   ]
  },
  {
   "cell_type": "code",
   "execution_count": 12,
   "metadata": {},
   "outputs": [],
   "source": [
    "df2 = df.copy()\n",
    "df3 = df.copy()"
   ]
  },
  {
   "cell_type": "code",
   "execution_count": 13,
   "metadata": {},
   "outputs": [],
   "source": [
    "#pd.cut(np.array(df2['T']),10)"
   ]
  },
  {
   "cell_type": "code",
   "execution_count": 19,
   "metadata": {},
   "outputs": [
    {
     "data": {
      "image/png": "[encoded data removed]",
      "text/plain": [
       "<Figure size 432x288 with 1 Axes>"
      ]
     },
     "metadata": {
      "needs_background": "light"
     },
     "output_type": "display_data"
    },
    {
     "name": "stdout",
     "output_type": "stream",
     "text": [
      "Bins\n",
      "[ 0.         14.14285714 28.28571429 42.42857143 56.57142857 70.71428571\n",
      " 84.85714286 99.        ]\n"
     ]
    }
   ],
   "source": [
    "#Scott\n",
    "hist = plt.hist(np.array(df['T']),bins ='scott',ec=\"black\")\n",
    "plt.show()\n",
    "print(\"Bins\")\n",
    "print(hist[1])"
   ]
  },
  {
   "cell_type": "code",
   "execution_count": 21,
   "metadata": {},
   "outputs": [
    {
     "data": {
      "image/png": "[encoded data removed]",
      "text/plain": [
       "<Figure size 432x288 with 1 Axes>"
      ]
     },
     "metadata": {
      "needs_background": "light"
     },
     "output_type": "display_data"
    },
    {
     "name": "stdout",
     "output_type": "stream",
     "text": [
      "Bins\n",
      "[ 0.         14.14285714 28.28571429 42.42857143 56.57142857 70.71428571\n",
      " 84.85714286 99.        ]\n"
     ]
    }
   ],
   "source": [
    "#Freedman Diaconis Estimator\n",
    "hist = plt.hist(np.array(df['T']),bins=\"fd\",ec=\"black\")\n",
    "plt.show()\n",
    "print(\"Bins\")\n",
    "print(hist[1])"
   ]
  },
  {
   "cell_type": "code",
   "execution_count": 10,
   "metadata": {},
   "outputs": [
    {
     "data": {
      "image/png": "[encoded data removed]",
      "text/plain": [
       "<Figure size 432x288 with 1 Axes>"
      ]
     },
     "metadata": {},
     "output_type": "display_data"
    },
    {
     "name": "stdout",
     "output_type": "stream",
     "text": [
      "Bins\n",
      "[ 0.    8.25 16.5  24.75 33.   41.25 49.5  57.75 66.   74.25 82.5  90.75\n",
      " 99.  ]\n"
     ]
    }
   ],
   "source": [
    "#Rice\n",
    "hist = plt.hist(np.array(df['T']),bins=\"rice\",ec=\"black\")\n",
    "plt.show()\n",
    "print(\"Bins\")\n",
    "print(hist[1])"
   ]
  },
  {
   "cell_type": "code",
   "execution_count": 11,
   "metadata": {},
   "outputs": [
    {
     "data": {
      "image/png": "[encoded data removed]",
      "text/plain": [
       "<Figure size 432x288 with 1 Axes>"
      ]
     },
     "metadata": {},
     "output_type": "display_data"
    },
    {
     "name": "stdout",
     "output_type": "stream",
     "text": [
      "Bins\n",
      "[ 0. 11. 22. 33. 44. 55. 66. 77. 88. 99.]\n"
     ]
    }
   ],
   "source": [
    "#Sturges\n",
    "hist = plt.hist(np.array(df['T']),bins=\"sturges\",ec=\"black\")\n",
    "plt.show()\n",
    "print(\"Bins\")\n",
    "print(hist[1])"
   ]
  },
  {
   "cell_type": "code",
   "execution_count": 12,
   "metadata": {},
   "outputs": [],
   "source": [
    "import math\n",
    "import statistics\n",
    "\n",
    "def sturge(n):\n",
    "    k = 1 + 3.222 * math.log10(n)\n",
    "    return k\n",
    "\n",
    "def scott(a, n):\n",
    "    stddev = statistics.stdev(a)\n",
    "    k = 3.49 * stddev * (n**(-1/3))\n",
    "    return k\n",
    "\n",
    "def rice(n):\n",
    "    k = 2 * n**(1/3)\n",
    "    return k \n",
    "\n",
    "def freedman(a, n):\n",
    "    iqr = a.quantile()\n",
    "    k = (2 * iqr)/(n**(1/3))\n",
    "    return k"
   ]
  },
  {
   "cell_type": "code",
   "execution_count": 13,
   "metadata": {},
   "outputs": [
    {
     "data": {
      "text/plain": [
       "8.413918646029348"
      ]
     },
     "execution_count": 13,
     "metadata": {},
     "output_type": "execute_result"
    }
   ],
   "source": [
    "sturge(n)"
   ]
  },
  {
   "cell_type": "code",
   "execution_count": 14,
   "metadata": {},
   "outputs": [
    {
     "data": {
      "text/plain": [
       "16.674949774357373"
      ]
     },
     "execution_count": 14,
     "metadata": {},
     "output_type": "execute_result"
    }
   ],
   "source": [
    "scott(df['T'],n)"
   ]
  },
  {
   "cell_type": "code",
   "execution_count": 15,
   "metadata": {},
   "outputs": [
    {
     "data": {
      "text/plain": [
       "11.696070952851462"
      ]
     },
     "execution_count": 15,
     "metadata": {},
     "output_type": "execute_result"
    }
   ],
   "source": [
    "rice(n)"
   ]
  },
  {
   "cell_type": "code",
   "execution_count": 16,
   "metadata": {},
   "outputs": [
    {
     "data": {
      "text/plain": [
       "16.073773898760955"
      ]
     },
     "execution_count": 16,
     "metadata": {},
     "output_type": "execute_result"
    }
   ],
   "source": [
    "freedman(df['T'],n)"
   ]
  },
  {
   "cell_type": "code",
   "execution_count": 17,
   "metadata": {},
   "outputs": [
    {
     "data": {
      "image/png": "[encoded data removed]",
      "text/plain": [
       "<Figure size 432x288 with 1 Axes>"
      ]
     },
     "metadata": {},
     "output_type": "display_data"
    },
    {
     "name": "stdout",
     "output_type": "stream",
     "text": [
      "Bins\n",
      "[ 0.   9.9 19.8 29.7 39.6 49.5 59.4 69.3 79.2 89.1 99. ]\n"
     ]
    }
   ],
   "source": [
    "hist = plt.hist(df['T'], ec=\"black\", density=False)\n",
    "plt.show()\n",
    "print(\"Bins\")\n",
    "print(hist[1])"
   ]
  },
  {
   "cell_type": "markdown",
   "metadata": {},
   "source": [
    "## Equal Depth Binning\n",
    "\n",
    "### Each bin having a depth 20(10% of observations)"
   ]
  },
  {
   "cell_type": "code",
   "execution_count": 23,
   "metadata": {},
   "outputs": [
    {
     "data": {
      "text/plain": [
       "array([ 0,  0,  0,  0,  1,  1,  3,  3,  6,  7,  7,  7, 12, 12, 12, 12, 13,\n",
       "       13, 13, 14, 14, 16, 16, 16, 17, 18, 18, 19, 19, 19, 20, 20, 20, 21,\n",
       "       22, 22, 23, 23, 23, 23, 23, 24, 25, 26, 26, 27, 27, 27, 28, 29, 30,\n",
       "       30, 31, 32, 32, 32, 33, 34, 34, 34, 35, 35, 36, 36, 36, 37, 37, 37,\n",
       "       37, 37, 38, 39, 39, 39, 39, 39, 40, 40, 40, 40, 41, 42, 42, 42, 42,\n",
       "       42, 43, 43, 44, 44, 44, 44, 45, 45, 45, 46, 46, 48, 49, 51, 51, 52,\n",
       "       52, 52, 52, 53, 53, 54, 55, 55, 55, 55, 55, 56, 56, 57, 57, 57, 57,\n",
       "       57, 58, 58, 60, 60, 60, 61, 61, 61, 61, 62, 62, 62, 63, 63, 65, 65,\n",
       "       66, 66, 68, 68, 68, 69, 70, 70, 70, 70, 71, 72, 73, 73, 73, 73, 75,\n",
       "       75, 76, 76, 77, 77, 77, 77, 81, 81, 82, 82, 82, 82, 82, 84, 84, 85,\n",
       "       85, 86, 86, 87, 87, 88, 88, 88, 88, 89, 90, 90, 92, 93, 93, 93, 94,\n",
       "       95, 95, 95, 98, 98, 98, 98, 99, 99, 99, 99, 99, 99])"
      ]
     },
     "execution_count": 23,
     "metadata": {},
     "output_type": "execute_result"
    }
   ],
   "source": [
    "mylist = np.array(df['T'])\n",
    "mylist\n",
    "mylist.sort()\n",
    "mylist"
   ]
  },
  {
   "cell_type": "code",
   "execution_count": 24,
   "metadata": {},
   "outputs": [
    {
     "data": {
      "image/png": "[encoded data removed]",
      "text/plain": [
       "<Figure size 432x288 with 1 Axes>"
      ]
     },
     "metadata": {
      "needs_background": "light"
     },
     "output_type": "display_data"
    },
    {
     "name": "stdout",
     "output_type": "stream",
     "text": [
      "10\n",
      "10\n",
      "[20, 20, 20, 20, 20, 20, 20, 20, 20, 20]\n",
      "[14, 14, 23, 35, 41, 51, 58, 68, 81, 90]\n"
     ]
    }
   ],
   "source": [
    "x=[]\n",
    "y=[]\n",
    "for i in range(0,200,20):\n",
    "    x.append(20)\n",
    "    k = mylist[i]\n",
    "    for j in range(20):\n",
    "        if(k<mylist[j]):\n",
    "            k = mylist[j]\n",
    "    y.append(k) \n",
    "    \n",
    "\n",
    "plt.bar(y,x,edgecolor='r',width=20)\n",
    "plt.title(\"Equal Depth Binning\")\n",
    "plt.show()\n",
    "print(len(x))\n",
    "print(len(y))\n",
    "print(x)\n",
    "print(y)"
   ]
  },
  {
   "cell_type": "code",
   "execution_count": null,
   "metadata": {},
   "outputs": [],
   "source": []
  }
 ],
 "metadata": {
  "kernelspec": {
   "display_name": "Python 3",
   "language": "python",
   "name": "python3"
  },
  "language_info": {
   "codemirror_mode": {
    "name": "ipython",
    "version": 3
   },
   "file_extension": ".py",
   "mimetype": "text/x-python",
   "name": "python",
   "nbconvert_exporter": "python",
   "pygments_lexer": "ipython3",
   "version": "3.7.3"
  }
 },
 "nbformat": 4,
 "nbformat_minor": 2
}
